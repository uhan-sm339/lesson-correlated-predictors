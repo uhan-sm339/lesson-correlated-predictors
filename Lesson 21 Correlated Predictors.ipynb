{
 "cells": [
  {
   "cell_type": "markdown",
   "id": "f05a9f1c-c3e7-4fe1-8fb0-e4b259342c2b",
   "metadata": {
    "editable": true,
    "slideshow": {
     "slide_type": ""
    },
    "tags": []
   },
   "source": [
    "**SM339 &#x25aa; Applied Statistics &#x25aa; Spring 2024 &#x25aa; Uhan**"
   ]
  },
  {
   "cell_type": "markdown",
   "id": "8b831903-7deb-484a-97d2-c42a3d16525f",
   "metadata": {
    "editable": true,
    "slideshow": {
     "slide_type": ""
    },
    "tags": []
   },
   "source": [
    "# Lesson 21. Correlated Predictors"
   ]
  },
  {
   "cell_type": "markdown",
   "id": "e1becd1e-ae52-4a47-adb5-f33d24fc4396",
   "metadata": {
    "editable": true,
    "slideshow": {
     "slide_type": ""
    },
    "tags": []
   },
   "source": [
    "_Setup._ Tweak the width and height values below to adjust the size of your plots in this notebook."
   ]
  },
  {
   "cell_type": "code",
   "execution_count": null,
   "id": "e8c5ef9e-da68-40fb-996a-92090cf3250b",
   "metadata": {
    "editable": true,
    "slideshow": {
     "slide_type": ""
    },
    "tags": []
   },
   "outputs": [],
   "source": [
    "options(repr.plot.width=8, repr.plot.height=8)"
   ]
  },
  {
   "cell_type": "markdown",
   "id": "f0e948f8-dea1-4bfb-911c-1e655a092af8",
   "metadata": {
    "editable": true,
    "slideshow": {
     "slide_type": ""
    },
    "tags": []
   },
   "source": [
    "## What is multicollinearity?"
   ]
  },
  {
   "cell_type": "markdown",
   "id": "bb653215-345c-4d71-b0c8-9948f66c75a3",
   "metadata": {},
   "source": [
    "- Roughly speaking: _when predictors are related to each other_\n",
    "\n",
    "- Formal definition: A set of predictors exhibits __multicollinearity__ when one or more of the predictors is strongly correlated with some linear combination of the other predictors in the set\n",
    "\n",
    "- Multicollinearity _doesn't always indicate a poor model_, but it can result in some odd behavior\n",
    "\n",
    "- If two predictors are exactly related (correlation = 1 or -1), then then estimates for $\\beta$ are not unique"
   ]
  },
  {
   "cell_type": "markdown",
   "id": "e47bfd8e-95cf-48de-85be-10cc32608493",
   "metadata": {
    "editable": true,
    "slideshow": {
     "slide_type": ""
    },
    "tags": []
   },
   "source": [
    "## Red flags"
   ]
  },
  {
   "cell_type": "markdown",
   "id": "4c6b6e17-aed1-4ec9-bd4a-1d798c56da62",
   "metadata": {
    "editable": true,
    "slideshow": {
     "slide_type": ""
    },
    "tags": []
   },
   "source": [
    "### Example 1"
   ]
  },
  {
   "cell_type": "markdown",
   "id": "6d0bdbdc-e26e-42de-abfb-aae93b5dee0b",
   "metadata": {},
   "source": [
    "Suppose we would like to predict the price of a house based on its $\\mathit{Size}$ (in square feet) and its $\\mathit{Lot}$ size (also in square feet).\n",
    "The dataset `Houses` in `Stat2Data` contains relevant data for 20 houses sold in 2008 in a small midwestern town."
   ]
  },
  {
   "cell_type": "code",
   "execution_count": null,
   "id": "b671c5bd-4686-47c5-88aa-d2ac99578614",
   "metadata": {},
   "outputs": [],
   "source": [
    "library(Stat2Data)\n",
    "data(Houses)\n",
    "head(Houses)"
   ]
  },
  {
   "cell_type": "markdown",
   "id": "e24c276c-8bda-43a5-9056-dda2378ebe9d",
   "metadata": {
    "editable": true,
    "slideshow": {
     "slide_type": ""
    },
    "tags": []
   },
   "source": [
    "#### a.\n",
    "The two-predictor model that predicts $\\mathit{Price}$ from $\\mathit{Size}$ and $\\mathit{Lot}$ is\n",
    "\n",
    "$$ \\mathit{Price} = \\beta_0 + \\beta_1 \\mathit{Size} + \\beta_2 \\mathit{Lot} + \\varepsilon \\qquad \\varepsilon \\sim \\text{iid } N(0, \\sigma_{\\varepsilon}^2) $$"
   ]
  },
  {
   "cell_type": "markdown",
   "id": "abcb7c51-e7fd-46ae-8aca-e4f515796343",
   "metadata": {
    "editable": true,
    "slideshow": {
     "slide_type": ""
    },
    "tags": []
   },
   "source": [
    "#### b.\n",
    "Fit the model in R."
   ]
  },
  {
   "cell_type": "code",
   "execution_count": null,
   "id": "df619841-a165-4ce3-bb7d-0ece90e2c9a8",
   "metadata": {
    "editable": true,
    "slideshow": {
     "slide_type": ""
    },
    "tags": []
   },
   "outputs": [],
   "source": []
  },
  {
   "cell_type": "markdown",
   "id": "38a33c43-f5c1-4782-ac2f-161b61941f75",
   "metadata": {
    "editable": true,
    "slideshow": {
     "slide_type": ""
    },
    "tags": []
   },
   "source": [
    "#### c.\n",
    "Check the diagnostic plots for linearity, equal variance, and normality."
   ]
  },
  {
   "cell_type": "markdown",
   "id": "31076421-70f6-4ec9-9f2d-5e0baf55675a",
   "metadata": {
    "editable": true,
    "slideshow": {
     "slide_type": ""
    },
    "tags": []
   },
   "source": [
    "*Write your notes here. Double-click to edit.*"
   ]
  },
  {
   "cell_type": "markdown",
   "id": "0d08875f-2fc9-4f54-9f95-e7f72681b394",
   "metadata": {
    "editable": true,
    "slideshow": {
     "slide_type": ""
    },
    "tags": []
   },
   "source": [
    "#### d.\n",
    "What's strange about the summary output?"
   ]
  },
  {
   "cell_type": "markdown",
   "id": "27f82ab3-9bcd-4382-b4e8-b4e153a3141c",
   "metadata": {
    "editable": true,
    "slideshow": {
     "slide_type": ""
    },
    "tags": []
   },
   "source": [
    "*Write your notes here. Double-click to edit.*"
   ]
  },
  {
   "cell_type": "markdown",
   "id": "e4e1742f-8f67-48f4-93dd-8dc48e1d1d0f",
   "metadata": {
    "editable": true,
    "slideshow": {
     "slide_type": ""
    },
    "tags": []
   },
   "source": [
    "<div class=\"alert alert-danger\">\n",
    "    <h4>Red flag #1 for multicollinearity.</h4>\n",
    "    The ANOVA F-test says that the model as a whole is effective, but none (or few) of the individual predictors are significant\n",
    "</div>"
   ]
  },
  {
   "cell_type": "markdown",
   "id": "2007a6d5-886a-410d-8801-27c0e60acc1f",
   "metadata": {
    "editable": true,
    "jp-MarkdownHeadingCollapsed": true,
    "slideshow": {
     "slide_type": ""
    },
    "tags": []
   },
   "source": [
    "- So... what's going on?\n",
    "\n",
    "    - The individual $t$-tests are testing whether the predictor is helpful _given that the other predictor(s) are in the model_\n",
    "\n",
    "    - Highly correlated predictors contain similar information, so if one is already in the model, including the other doesn't help significantly\n",
    "\n",
    "    - We may want to try dropping a predictor and seeing if the resulting model performs similarly"
   ]
  },
  {
   "cell_type": "markdown",
   "id": "8c908529-974a-47a2-92f1-f772e22a504c",
   "metadata": {
    "editable": true,
    "slideshow": {
     "slide_type": ""
    },
    "tags": []
   },
   "source": [
    "#### e.\n",
    "Do $\\mathit{Size}$ and $\\mathit{Lot}$ seem to be \"highly\" correlated?"
   ]
  },
  {
   "cell_type": "code",
   "execution_count": null,
   "id": "2fb660e6-906f-441a-8e45-ab9bb36251f5",
   "metadata": {
    "editable": true,
    "slideshow": {
     "slide_type": ""
    },
    "tags": []
   },
   "outputs": [],
   "source": []
  },
  {
   "cell_type": "markdown",
   "id": "3dce002c-32c1-48a3-8b1e-b1d4badde22c",
   "metadata": {
    "editable": true,
    "slideshow": {
     "slide_type": ""
    },
    "tags": []
   },
   "source": [
    "*Write your notes here. Double-click to edit.*"
   ]
  },
  {
   "cell_type": "markdown",
   "id": "218c7c6b-ddb3-40eb-9396-112f89f300b4",
   "metadata": {
    "editable": true,
    "slideshow": {
     "slide_type": ""
    },
    "tags": []
   },
   "source": [
    "#### f.\n",
    "Check if $\\mathit{Size}$ and/or $\\mathit{Lot}$ are significant as __single__ predictors of $\\mathit{Price}$."
   ]
  },
  {
   "cell_type": "code",
   "execution_count": null,
   "id": "d1994761-b042-49c3-8878-d077181a6f89",
   "metadata": {
    "editable": true,
    "slideshow": {
     "slide_type": ""
    },
    "tags": []
   },
   "outputs": [],
   "source": []
  },
  {
   "cell_type": "code",
   "execution_count": null,
   "id": "94cda93c-23bf-4792-a898-a5e09df772f6",
   "metadata": {
    "editable": true,
    "slideshow": {
     "slide_type": ""
    },
    "tags": []
   },
   "outputs": [],
   "source": []
  },
  {
   "cell_type": "markdown",
   "id": "d068846c-ad04-47b6-ab35-7d5065c871a4",
   "metadata": {
    "editable": true,
    "slideshow": {
     "slide_type": ""
    },
    "tags": []
   },
   "source": [
    "*Write your notes here. Double-click to edit.*"
   ]
  },
  {
   "cell_type": "markdown",
   "id": "f01b32bf-03f0-4932-ac97-a42f17f10424",
   "metadata": {
    "editable": true,
    "slideshow": {
     "slide_type": ""
    },
    "tags": []
   },
   "source": [
    "### Example 2"
   ]
  },
  {
   "cell_type": "markdown",
   "id": "b9b61235-ec2d-4aed-aaa7-60a2041e630f",
   "metadata": {
    "editable": true,
    "slideshow": {
     "slide_type": ""
    },
    "tags": []
   },
   "source": [
    "In a previous lesson, we looked at the `Perch` data, with measurements on 56 perch from a Finnish lake.\n",
    "We decided that the best model for predicting $\\mathit{Weight}$ from $\\mathit{Length}$ and $\\mathit{Width}$ included both individual predictors and an interaction term."
   ]
  },
  {
   "cell_type": "code",
   "execution_count": null,
   "id": "9f03ed8e-6f85-4358-921e-2a8a8449a93e",
   "metadata": {
    "editable": true,
    "slideshow": {
     "slide_type": ""
    },
    "tags": []
   },
   "outputs": [],
   "source": [
    "data(Perch)\n",
    "head(Perch)"
   ]
  },
  {
   "cell_type": "markdown",
   "id": "8dc905f5-98dc-4555-abbf-760df4986067",
   "metadata": {
    "editable": true,
    "slideshow": {
     "slide_type": ""
    },
    "tags": []
   },
   "source": [
    "#### a.\n",
    "What kind of association (positive, negative, none) do we expect between each predictor and the response?"
   ]
  },
  {
   "cell_type": "markdown",
   "id": "87adc169-597b-4f3e-af2b-70d4ed81af47",
   "metadata": {
    "editable": true,
    "slideshow": {
     "slide_type": ""
    },
    "tags": []
   },
   "source": [
    "*Write your notes here. Double-click to edit.*"
   ]
  },
  {
   "cell_type": "markdown",
   "id": "41bd36c3-c12c-4a7f-9b3c-d66d6324357e",
   "metadata": {
    "editable": true,
    "slideshow": {
     "slide_type": ""
    },
    "tags": []
   },
   "source": [
    "#### b.\n",
    "Re-fit this model from a previous lesson:\n",
    "\n",
    "$$ \\mathit{Weight} = \\beta_0 + \\beta_1 \\mathit{Length} + \\beta_2 \\mathit{Width} + \\beta_3 (\\mathit{Length} \\times \\mathit{Width}) + \\varepsilon \\qquad \\varepsilon \\sim \\text{iid } N(0, \\sigma_{\\varepsilon}^2) $$\n",
    "\n",
    "What seems kind of strange?"
   ]
  },
  {
   "cell_type": "code",
   "execution_count": null,
   "id": "94b76206-38ab-4360-b4b9-467e023bc1e7",
   "metadata": {
    "editable": true,
    "slideshow": {
     "slide_type": ""
    },
    "tags": []
   },
   "outputs": [],
   "source": []
  },
  {
   "cell_type": "markdown",
   "id": "8f4135bc-0944-4a29-a075-a33e95ead819",
   "metadata": {
    "editable": true,
    "slideshow": {
     "slide_type": ""
    },
    "tags": []
   },
   "source": [
    "*Write your notes here. Double-click to edit.*"
   ]
  },
  {
   "cell_type": "markdown",
   "id": "f2773d3c-faf6-4ba1-a1b0-a935f09a2cb9",
   "metadata": {
    "editable": true,
    "slideshow": {
     "slide_type": ""
    },
    "tags": []
   },
   "source": [
    "<div class=\"alert alert-danger\">\n",
    "    <h4>Red flag #2 for multicollinearity.</h4>\n",
    "    The signs of the estimated coefficients in the fitted model don't seem right\n",
    "</div>"
   ]
  },
  {
   "cell_type": "markdown",
   "id": "dede1874-dcb2-4482-b2bf-79c578439925",
   "metadata": {
    "editable": true,
    "slideshow": {
     "slide_type": ""
    },
    "tags": []
   },
   "source": [
    "- So... what's going on?\n",
    "\n",
    "    - $\\mathit{Length}$ and $\\mathit{Width}$ essentially show up twice each, due to the interaction term\n",
    "\n",
    "    - All three predictors are probably highly correlated (we can check this below)\n",
    "\n",
    "    - Highly correlated predictors contain similar information &mdash; it's difficult to separate out their effects\n",
    "\n",
    "    - __In this situation, we should not interpret individual coefficients, but we may still use the model to make predictions__"
   ]
  },
  {
   "cell_type": "markdown",
   "id": "a82aedb9-922b-4c11-9f9c-0bf35f40e472",
   "metadata": {
    "editable": true,
    "slideshow": {
     "slide_type": ""
    },
    "tags": []
   },
   "source": [
    "#### c.\n",
    "\n",
    "Compute the correlation between $\\mathit{Weight}$, $\\mathit{Length}$, and $\\mathit{Width}$."
   ]
  },
  {
   "cell_type": "code",
   "execution_count": null,
   "id": "4c06ccd4-5069-4ee0-bfb2-52d39213fb65",
   "metadata": {
    "editable": true,
    "slideshow": {
     "slide_type": ""
    },
    "tags": []
   },
   "outputs": [],
   "source": []
  },
  {
   "cell_type": "markdown",
   "id": "c52c400e-d5d9-4e74-9b28-835090c3db03",
   "metadata": {
    "editable": true,
    "slideshow": {
     "slide_type": ""
    },
    "tags": []
   },
   "source": [
    "<div class=\"alert alert-info\">\n",
    "    <h3>Recap: red flags for multicollinearity</h3>\n",
    "\n",
    "The signature red flags for multicollinearity are:\n",
    "\n",
    "1. The ANOVA F-test says that the model as a whole is effective, but none (or few) of the individual predictors are significant (Example 1)\n",
    "\n",
    "2. The signs of the estimated coefficients in the fitted model don't seem right (Example 2)\n",
    "</div>"
   ]
  },
  {
   "cell_type": "markdown",
   "id": "6237e8a7-a7e6-4fd5-9c9b-3bb0e5cc7f8e",
   "metadata": {
    "editable": true,
    "slideshow": {
     "slide_type": ""
    },
    "tags": []
   },
   "source": [
    "## Formal detection of multicollinearity"
   ]
  },
  {
   "cell_type": "markdown",
   "id": "9e3ab0bf-c9d2-4b1b-8b51-06f010e4c926",
   "metadata": {
    "editable": true,
    "slideshow": {
     "slide_type": ""
    },
    "tags": []
   },
   "source": [
    "- For each predictor $X_i$ in a model, the __variance inflation factor (VIF)__ is computed as\n",
    "\n",
    "    $$ \\mathit{VIF}_i = \\frac{1}{1 - R_i^2} $$\n",
    "    \n",
    "    where $R_i^2$ is the coefficient of multiple determination for a model that predicts $X_i$ using the other predictors in the model\n",
    "    \n",
    "<div class=\"alert alert-info\">\n",
    "    <h3>Rule of thumb for using VIF</h3>\n",
    "    As a <em>rough</em> rule, we are usually concerned about multicollinearity if <em>any VIF > 5</em>\n",
    "</div>"
   ]
  },
  {
   "cell_type": "markdown",
   "id": "7fe8c29c-8bcc-47c3-8f6f-2753acdacb6a",
   "metadata": {
    "editable": true,
    "slideshow": {
     "slide_type": ""
    },
    "tags": []
   },
   "source": [
    "### Example 3\n",
    "\n",
    "What are the VIFs for the predictors in the model in the Perch example?\n",
    "Should we be concerned about multicollinearity?\n",
    "\n",
    "_Note._ You may need to install the `car` library first:\n",
    "\n",
    "```r\n",
    "install.packages('car') \n",
    "```\n",
    "\n",
    "You only need to do this once per computer."
   ]
  },
  {
   "cell_type": "code",
   "execution_count": null,
   "id": "ccb725ff-4d42-44e4-86d7-f7574cbc00cd",
   "metadata": {
    "editable": true,
    "slideshow": {
     "slide_type": ""
    },
    "tags": []
   },
   "outputs": [],
   "source": []
  },
  {
   "cell_type": "markdown",
   "id": "ad98c8e4-b7c3-4860-95d3-87c820a00dd5",
   "metadata": {
    "editable": true,
    "slideshow": {
     "slide_type": ""
    },
    "tags": []
   },
   "source": [
    "*Write your notes here. Double-click to edit.*"
   ]
  },
  {
   "cell_type": "markdown",
   "id": "6a1d502d-caf7-4dab-b5a7-b3d9e7194d68",
   "metadata": {
    "editable": true,
    "slideshow": {
     "slide_type": ""
    },
    "tags": []
   },
   "source": [
    "## What should/can we do about it?"
   ]
  },
  {
   "cell_type": "markdown",
   "id": "0c79794d-0a3a-40c2-b8e0-d4238417242a",
   "metadata": {
    "editable": true,
    "slideshow": {
     "slide_type": ""
    },
    "tags": []
   },
   "source": [
    "- Multicollinearity does not necessarily indicate a bad model\n",
    "\n",
    "- The related predictors might all be important in the model, like in the Perch example\n",
    "\n",
    "- If our rule of thumb detects multicollinearity, _we should discount individual coefficients and $t$-tests_\n",
    "\n",
    "- We can still use the model to make predictions, in spite of multicollinearity, although it may be an indication that a simpler model would be sufficient\n",
    "\n",
    "- If the purpose of the model is to investigate the effects of the individual predictors (i.e., we want to interpret the individual $\\beta$s), then we can:\n",
    "\n",
    "    1. _Drop a predictor_ and check if the reduced model is about effective as the full model\n",
    "    \n",
    "    2. _Combine predictors_ &ndash; this is common with survey data"
   ]
  }
 ],
 "metadata": {
  "kernelspec": {
   "display_name": "R",
   "language": "R",
   "name": "ir"
  },
  "language_info": {
   "codemirror_mode": "r",
   "file_extension": ".r",
   "mimetype": "text/x-r-source",
   "name": "R",
   "pygments_lexer": "r",
   "version": "4.3.2"
  }
 },
 "nbformat": 4,
 "nbformat_minor": 5
}
